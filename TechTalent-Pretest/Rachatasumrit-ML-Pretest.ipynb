{
 "cells": [
  {
   "cell_type": "markdown",
   "metadata": {},
   "source": [
    "# Machine Learning Pretest\n",
    "## First Part: Multiple Choices\n",
    "## https://goo.gl/forms/L3L2RH9NMQtGPe4I2"
   ]
  },
  {
   "cell_type": "markdown",
   "metadata": {},
   "source": [
    "## Second Part: Coding Exercise"
   ]
  },
  {
   "cell_type": "markdown",
   "metadata": {},
   "source": [
    "## Exercise 1\n",
    "### Simulate N coin flips and count number of head and number of tail"
   ]
  },
  {
   "cell_type": "code",
   "execution_count": 15,
   "metadata": {},
   "outputs": [],
   "source": [
    "def simulate_coin_flips(N, p):\n",
    "    \"\"\"\n",
    "    return (number of head, number of tail)\n",
    "    \"\"\"\n",
    "    import random\n",
    "    head_count = 0\n",
    "    for i in range(N):\n",
    "        rand = random.uniform(0, 1)\n",
    "        head_count += 1 if rand < p else 0\n",
    "    \n",
    "    return (head_count, N-head_count)"
   ]
  },
  {
   "cell_type": "markdown",
   "metadata": {},
   "source": [
    "## Exercise 2\n",
    "### Write a program to simulate data and answer this question: How many coin flips on average does it take to get n consecutive heads?"
   ]
  },
  {
   "cell_type": "code",
   "execution_count": 27,
   "metadata": {},
   "outputs": [
    {
     "data": {
      "text/plain": [
       "2.0014185"
      ]
     },
     "execution_count": 27,
     "metadata": {},
     "output_type": "execute_result"
    }
   ],
   "source": [
    "def average_coin_flips_until_n_heads(n, p):\n",
    "    \"\"\"\n",
    "    return the answer\n",
    "    \"\"\"\n",
    "    import random \n",
    "    \n",
    "    N = 2000000\n",
    "    count_sum = 0\n",
    "    \n",
    "    def test(n, p):\n",
    "        head_count = 0\n",
    "        i = 1\n",
    "        while(True):\n",
    "            rand = random.uniform(0, 1)\n",
    "            head_count += 1 if rand < p else 0\n",
    "\n",
    "            if head_count == n:\n",
    "                return i\n",
    "            \n",
    "            i += 1\n",
    "            \n",
    "    for i in range(N):\n",
    "        count_sum += test(n, p)\n",
    "        \n",
    "    return count_sum/N"
   ]
  },
  {
   "cell_type": "markdown",
   "metadata": {},
   "source": [
    "## Exercise 3\n",
    "### Fit linear regression on the simulated data below and show that the fitted parameters are correct"
   ]
  },
  {
   "cell_type": "code",
   "execution_count": 28,
   "metadata": {
    "collapsed": true
   },
   "outputs": [],
   "source": [
    "import numpy as np\n",
    "\n",
    "x = np.random.normal(size=(100,2))\n",
    "y = 4 + 3 * x[:,0] + 5 * x[:,1]"
   ]
  },
  {
   "cell_type": "code",
   "execution_count": 82,
   "metadata": {},
   "outputs": [
    {
     "data": {
      "image/png": "[encoded data removed]",
      "text/plain": [
       "<matplotlib.figure.Figure at 0x11bed7780>"
      ]
     },
     "metadata": {},
     "output_type": "display_data"
    }
   ],
   "source": [
    "\"\"\"\n",
    "YOUR CODE HERE\n",
    "\"\"\"\n",
    "# y = ax + b\n",
    "\n",
    "a, b = np.linalg.lstsq(x, y)[0]\n",
    "\n",
    "import matplotlib.pyplot as plt\n",
    "plt.plot(x, y, 'o', label='Original data', markersize=5)\n",
    "plt.plot(x, a*x + b, 'r', label='Fitted line')\n",
    "plt.show()\n"
   ]
  },
  {
   "cell_type": "markdown",
   "metadata": {},
   "source": [
    "## Exercise 4\n",
    "### Given credit card fraud data below, fit a classification model on the trainData and evaluate the model on the testData using Area under curve of ROC (AUC) as a metric\n",
    "### The label column is \"Class\" and other columns are anonymized features\n",
    "### The data is sample from this dataset: https://www.kaggle.com/dalpozz/creditcardfraud"
   ]
  },
  {
   "cell_type": "code",
   "execution_count": 31,
   "metadata": {
    "collapsed": true
   },
   "outputs": [],
   "source": [
    "import pandas as pd"
   ]
  },
  {
   "cell_type": "code",
   "execution_count": 32,
   "metadata": {
    "collapsed": true
   },
   "outputs": [],
   "source": [
    "trainData = pd.read_csv(\"trainData.csv\")"
   ]
  },
  {
   "cell_type": "code",
   "execution_count": 67,
   "metadata": {},
   "outputs": [
    {
     "data": {
      "text/plain": [
       "array([[  7.98510000e+04,  -6.99148703e-01,   8.66465720e-01, ...,\n",
       "         -1.86386366e-01,  -1.62854814e-01,   1.98000000e+00],\n",
       "       [  2.82010000e+04,  -4.46041731e-01,   7.01825587e-01, ...,\n",
       "         -7.14128215e-02,  -1.45321435e-01,   1.59600000e+01],\n",
       "       [  4.07650000e+04,  -6.36142005e-01,   1.28420052e+00, ...,\n",
       "          3.70648939e-02,   5.41888016e-02,   1.49000000e+00],\n",
       "       ..., \n",
       "       [  9.38530000e+04,  -6.18585748e+00,   7.10298492e+00, ...,\n",
       "         -2.03917328e-01,   3.98927186e-01,   4.49000000e+01],\n",
       "       [  1.25612000e+05,   1.88961791e+00,   1.07309853e+00, ...,\n",
       "          3.16687807e-02,   3.58833226e-02,   3.22000000e+00],\n",
       "       [  3.55850000e+04,  -2.01900072e+00,   1.49126973e+00, ...,\n",
       "          6.26282771e-01,   1.52439938e-01,   7.60000000e-01]])"
      ]
     },
     "execution_count": 67,
     "metadata": {},
     "output_type": "execute_result"
    }
   ],
   "source": [
    "testData = pd.read_csv(\"testData.csv\")\n",
    "testData['Class'].values\n",
    "testData.drop('Class', axis=1).values"
   ]
  },
  {
   "cell_type": "code",
   "execution_count": 90,
   "metadata": {},
   "outputs": [
    {
     "data": {
      "text/plain": [
       "0.97549999999999992"
      ]
     },
     "execution_count": 90,
     "metadata": {},
     "output_type": "execute_result"
    }
   ],
   "source": [
    "\"\"\"\n",
    "YOUR CODE HERE\n",
    "\"\"\"\n",
    "import numpy as np\n",
    "from sklearn import metrics, tree\n",
    "\n",
    "train_target = trainData['Class'].values.reshape(-1, 1)\n",
    "train_features = trainData.drop('Class', axis=1).values\n",
    "\n",
    "test_target = testData['Class'].values.reshape(-1, 1)\n",
    "test_features = testData.drop('Class', axis=1).values\n",
    "\n",
    "classifier = tree.DecisionTreeClassifier()\n",
    "classifier.fit(train_features, train_target)\n",
    "\n",
    "predicts = classifier.predict(test_features)\n",
    "fpr, tpr, thresholds = metrics.roc_curve(test_target, predicts)\n",
    "metrics.auc(fpr, tpr)"
   ]
  },
  {
   "cell_type": "code",
   "execution_count": null,
   "metadata": {
    "collapsed": true
   },
   "outputs": [],
   "source": []
  }
 ],
 "metadata": {
  "kernelspec": {
   "display_name": "Python 3",
   "language": "python",
   "name": "python3"
  },
  "language_info": {
   "codemirror_mode": {
    "name": "ipython",
    "version": 3
   },
   "file_extension": ".py",
   "mimetype": "text/x-python",
   "name": "python",
   "nbconvert_exporter": "python",
   "pygments_lexer": "ipython3",
   "version": "3.6.1"
  }
 },
 "nbformat": 4,
 "nbformat_minor": 2
}
