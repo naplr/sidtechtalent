{
 "cells": [
  {
   "cell_type": "markdown",
   "metadata": {},
   "source": [
    "Hello, World!"
   ]
  },
  {
   "cell_type": "code",
   "execution_count": null,
   "metadata": {
    "collapsed": true
   },
   "outputs": [],
   "source": [
    "print(\"Hello, World!\")"
   ]
  },
  {
   "cell_type": "markdown",
   "metadata": {},
   "source": [
    "Variable"
   ]
  },
  {
   "cell_type": "code",
   "execution_count": null,
   "metadata": {
    "collapsed": true
   },
   "outputs": [],
   "source": [
    "a = 0\n",
    "b = 1\n",
    "# a, b = 0, 1"
   ]
  },
  {
   "cell_type": "code",
   "execution_count": null,
   "metadata": {
    "collapsed": true
   },
   "outputs": [],
   "source": [
    "print (a)\n",
    "print (b)\n",
    "print (a+b)"
   ]
  },
  {
   "cell_type": "markdown",
   "metadata": {},
   "source": [
    "Condition"
   ]
  },
  {
   "cell_type": "code",
   "execution_count": null,
   "metadata": {
    "collapsed": true
   },
   "outputs": [],
   "source": [
    "if a < b:\n",
    "    print('a ({}) is less than b ({})'.format(a, b))\n",
    "else:\n",
    "    print('a ({}) is not less than b ({})'.format(a, b))\n"
   ]
  },
  {
   "cell_type": "markdown",
   "metadata": {},
   "source": [
    "Import Files: Import library for python."
   ]
  },
  {
   "cell_type": "code",
   "execution_count": null,
   "metadata": {
    "collapsed": true
   },
   "outputs": [],
   "source": [
    "fh = open('lines.txt')"
   ]
  },
  {
   "cell_type": "markdown",
   "metadata": {},
   "source": [
    "Forloop"
   ]
  },
  {
   "cell_type": "code",
   "execution_count": null,
   "metadata": {
    "collapsed": true
   },
   "outputs": [],
   "source": [
    "for line in fh.readlines():\n",
    "    print(line)"
   ]
  },
  {
   "cell_type": "markdown",
   "metadata": {},
   "source": [
    "Whileloop"
   ]
  },
  {
   "cell_type": "code",
   "execution_count": null,
   "metadata": {
    "collapsed": true
   },
   "outputs": [],
   "source": [
    "while b < 50:\n",
    "    print(b)\n",
    "    a, b = b, a + b"
   ]
  },
  {
   "cell_type": "markdown",
   "metadata": {},
   "source": [
    "Function"
   ]
  },
  {
   "cell_type": "code",
   "execution_count": null,
   "metadata": {
    "collapsed": true
   },
   "outputs": [],
   "source": [
    "def isprime(n):\n",
    "    if n == 1:\n",
    "        print(\"1 is special\")\n",
    "        return False\n",
    "    for x in range(2, n):\n",
    "        if n % x == 0:\n",
    "            print(\"{} equals {} x {}\".format(n, x, n // x))\n",
    "            return False\n",
    "    else:\n",
    "        print(n, \"is a prime number\")\n",
    "        return True"
   ]
  },
  {
   "cell_type": "code",
   "execution_count": null,
   "metadata": {
    "collapsed": true,
    "scrolled": true
   },
   "outputs": [],
   "source": [
    "for n in range(1, 20):\n",
    "    isprime(n)"
   ]
  },
  {
   "cell_type": "raw",
   "metadata": {},
   "source": [
    "Generator python: call function"
   ]
  },
  {
   "cell_type": "code",
   "execution_count": null,
   "metadata": {
    "collapsed": true
   },
   "outputs": [],
   "source": [
    "def isprime(n):\n",
    "    if n == 1:\n",
    "        return False\n",
    "    for x in range(2, n):\n",
    "        if n % x == 0:\n",
    "            return False\n",
    "    else:\n",
    "        return True"
   ]
  },
  {
   "cell_type": "code",
   "execution_count": null,
   "metadata": {
    "collapsed": true
   },
   "outputs": [],
   "source": [
    "def primes(n = 1):\n",
    "   while(True):\n",
    "       if isprime(n): yield n\n",
    "       n += 1 "
   ]
  },
  {
   "cell_type": "code",
   "execution_count": null,
   "metadata": {
    "collapsed": true
   },
   "outputs": [],
   "source": [
    "for n in primes():\n",
    "    if n > 100: break\n",
    "    print(n)"
   ]
  },
  {
   "cell_type": "markdown",
   "metadata": {},
   "source": [
    "Simple example : Case 1"
   ]
  },
  {
   "cell_type": "code",
   "execution_count": null,
   "metadata": {
    "collapsed": true
   },
   "outputs": [],
   "source": [
    "class Fibonacci():\n",
    "    def __init__(self, a, b):\n",
    "        self.a = a\n",
    "        self.b = b\n",
    "\n",
    "    def series(self):\n",
    "        while(True):\n",
    "            yield(self.b)\n",
    "            self.a, self.b = self.b, self.a + self.b"
   ]
  },
  {
   "cell_type": "code",
   "execution_count": null,
   "metadata": {
    "collapsed": true
   },
   "outputs": [],
   "source": [
    "f = Fibonacci(0, 1)"
   ]
  },
  {
   "cell_type": "code",
   "execution_count": null,
   "metadata": {
    "collapsed": true
   },
   "outputs": [],
   "source": [
    "for r in f.series():\n",
    "    if r > 100: break    \n",
    "    print(r, end=' ')"
   ]
  },
  {
   "cell_type": "markdown",
   "metadata": {},
   "source": [
    "Simple example : Case 2"
   ]
  },
  {
   "cell_type": "code",
   "execution_count": 5,
   "metadata": {
    "collapsed": true
   },
   "outputs": [],
   "source": [
    "class AnimalActions:\n",
    "    def quack(self): return self.strings['quack']\n",
    "    def feathers(self): return self.strings['feathers']\n",
    "    def bark(self): return self.strings['bark']\n",
    "    def fur(self): return self.strings['fur']"
   ]
  },
  {
   "cell_type": "code",
   "execution_count": 6,
   "metadata": {
    "collapsed": true
   },
   "outputs": [],
   "source": [
    "class Duck(AnimalActions):\n",
    "    strings = dict(\n",
    "        quack = \"Quaaaaak!\",\n",
    "        feathers = \"The duck has gray and white feathers.\",\n",
    "        bark = \"The duck cannot bark.\",\n",
    "        fur = \"The duck has no fur.\"\n",
    "    )"
   ]
  },
  {
   "cell_type": "code",
   "execution_count": 7,
   "metadata": {
    "collapsed": true
   },
   "outputs": [],
   "source": [
    "class Person(AnimalActions):\n",
    "    strings = dict(\n",
    "        quack = \"The person imitates a duck.\",\n",
    "        feathers = \"The person takes a feather from the ground and shows it.\",\n",
    "        bark = \"The person says woof!\",\n",
    "        fur = \"The person puts on a fur coat.\"\n",
    "    )"
   ]
  },
  {
   "cell_type": "code",
   "execution_count": 8,
   "metadata": {
    "collapsed": true
   },
   "outputs": [],
   "source": [
    "class Dog(AnimalActions):\n",
    "    strings = dict(\n",
    "        quack = \"The dog cannot quack.\",\n",
    "        feathers = \"The dog has no feathers.\",\n",
    "        bark = \"Arf!\",\n",
    "        fur = \"The dog has white fur with black spots.\"\n",
    "    )"
   ]
  },
  {
   "cell_type": "code",
   "execution_count": 9,
   "metadata": {
    "collapsed": true
   },
   "outputs": [],
   "source": [
    "def in_the_doghouse(dog):\n",
    "    print(dog.bark())\n",
    "    print(dog.fur())"
   ]
  },
  {
   "cell_type": "code",
   "execution_count": 10,
   "metadata": {
    "collapsed": true
   },
   "outputs": [],
   "source": [
    "def in_the_forest(duck):\n",
    "    print(duck.quack())\n",
    "    print(duck.feathers())"
   ]
  },
  {
   "cell_type": "code",
   "execution_count": 11,
   "metadata": {
    "collapsed": true
   },
   "outputs": [],
   "source": [
    "def main():\n",
    "    donald = Duck()\n",
    "    john = Person()\n",
    "    fido = Dog()\n",
    "\n",
    "    print(\"- In the forest:\")\n",
    "    for o in ( donald, john, fido ):\n",
    "        in_the_forest(o)\n",
    "\n",
    "    print(\"- In the doghouse:\")\n",
    "    for o in ( donald, john, fido ):\n",
    "        in_the_doghouse(o)"
   ]
  },
  {
   "cell_type": "code",
   "execution_count": 12,
   "metadata": {},
   "outputs": [
    {
     "name": "stdout",
     "output_type": "stream",
     "text": [
      "- In the forest:\n",
      "Quaaaaak!\n",
      "The duck has gray and white feathers.\n",
      "The person imitates a duck.\n",
      "The person takes a feather from the ground and shows it.\n",
      "The dog cannot quack.\n",
      "The dog has no feathers.\n",
      "- In the doghouse:\n",
      "The duck cannot bark.\n",
      "The duck has no fur.\n",
      "The person says woof!\n",
      "The person puts on a fur coat.\n",
      "Arf!\n",
      "The dog has white fur with black spots.\n"
     ]
    }
   ],
   "source": [
    "if __name__ == \"__main__\": main()"
   ]
  },
  {
   "cell_type": "markdown",
   "metadata": {},
   "source": [
    "Simple example : Case 3"
   ]
  },
  {
   "cell_type": "code",
   "execution_count": null,
   "metadata": {
    "collapsed": true
   },
   "outputs": [],
   "source": [
    "class AnimalActions:\n",
    "    def bark(self): return self._doAction('bark')\n",
    "    def fur(self): return self._doAction('fur')\n",
    "    def quack(self): return self._doAction('quack')\n",
    "    def feathers(self): return self._doAction('feathers')\n",
    "\n",
    "    def _doAction(self, action):\n",
    "        if action in self.strings:\n",
    "            return self.strings[action]\n",
    "        else:\n",
    "            return 'The {} has no {}'.format(self.animalName(), action)\n",
    "\n",
    "    def animalName(self):\n",
    "        return self.__class__.__name__.lower()"
   ]
  },
  {
   "cell_type": "markdown",
   "metadata": {},
   "source": [
    "# -- MODEL -- "
   ]
  },
  {
   "cell_type": "code",
   "execution_count": null,
   "metadata": {
    "collapsed": true
   },
   "outputs": [],
   "source": [
    "class Duck(AnimalActions):\n",
    "    strings = dict(\n",
    "        quack = \"Quaaaaak!\",\n",
    "        feathers = \"The duck has gray and white feathers.\"\n",
    "    )"
   ]
  },
  {
   "cell_type": "code",
   "execution_count": null,
   "metadata": {
    "collapsed": true
   },
   "outputs": [],
   "source": [
    "class Person(AnimalActions):\n",
    "    strings = dict(\n",
    "        bark = \"The person says woof!\",\n",
    "        fur = \"The person puts on a fur coat.\",\n",
    "        quack = \"The person imitates a duck.\",\n",
    "        feathers = \"The person takes a feather from the ground and shows it.\"\n",
    "    )"
   ]
  },
  {
   "cell_type": "code",
   "execution_count": null,
   "metadata": {
    "collapsed": true
   },
   "outputs": [],
   "source": [
    "class Dog(AnimalActions):\n",
    "    strings = dict(\n",
    "        bark = \"Arf!\",\n",
    "        fur = \"The dog has white fur with black spots.\",\n",
    "    )"
   ]
  },
  {
   "cell_type": "markdown",
   "metadata": {},
   "source": [
    "# -- CONTROLLER -- "
   ]
  },
  {
   "cell_type": "code",
   "execution_count": 1,
   "metadata": {
    "collapsed": true
   },
   "outputs": [],
   "source": [
    "def in_the_doghouse(dog):\n",
    "    print(dog.bark())\n",
    "    print(dog.fur())"
   ]
  },
  {
   "cell_type": "code",
   "execution_count": 2,
   "metadata": {
    "collapsed": true
   },
   "outputs": [],
   "source": [
    "def in_the_forest(duck):\n",
    "    print(duck.quack())\n",
    "    print(duck.feathers())"
   ]
  },
  {
   "cell_type": "code",
   "execution_count": 3,
   "metadata": {
    "collapsed": true
   },
   "outputs": [],
   "source": [
    "def main():\n",
    "    donald = Duck()\n",
    "    john = Person()\n",
    "    fido = Dog()\n",
    "\n",
    "    print(\"-- In the forest:\")\n",
    "    for o in ( donald, john, fido ):\n",
    "        in_the_forest(o)\n",
    "\n",
    "    print(\"-- In the doghouse:\")\n",
    "    for o in ( donald, john, fido ):\n",
    "        in_the_doghouse(o)"
   ]
  },
  {
   "cell_type": "code",
   "execution_count": 4,
   "metadata": {},
   "outputs": [
    {
     "ename": "NameError",
     "evalue": "name 'Duck' is not defined",
     "output_type": "error",
     "traceback": [
      "\u001b[0;31m---------------------------------------------------------------------------\u001b[0m",
      "\u001b[0;31mNameError\u001b[0m                                 Traceback (most recent call last)",
      "\u001b[0;32m<ipython-input-4-814cf7f38b87>\u001b[0m in \u001b[0;36m<module>\u001b[0;34m()\u001b[0m\n\u001b[0;32m----> 1\u001b[0;31m \u001b[0;32mif\u001b[0m \u001b[0m__name__\u001b[0m \u001b[0;34m==\u001b[0m \u001b[0;34m\"__main__\"\u001b[0m\u001b[0;34m:\u001b[0m \u001b[0mmain\u001b[0m\u001b[0;34m(\u001b[0m\u001b[0;34m)\u001b[0m\u001b[0;34m\u001b[0m\u001b[0m\n\u001b[0m",
      "\u001b[0;32m<ipython-input-3-f3c2de2e14be>\u001b[0m in \u001b[0;36mmain\u001b[0;34m()\u001b[0m\n\u001b[1;32m      1\u001b[0m \u001b[0;32mdef\u001b[0m \u001b[0mmain\u001b[0m\u001b[0;34m(\u001b[0m\u001b[0;34m)\u001b[0m\u001b[0;34m:\u001b[0m\u001b[0;34m\u001b[0m\u001b[0m\n\u001b[0;32m----> 2\u001b[0;31m     \u001b[0mdonald\u001b[0m \u001b[0;34m=\u001b[0m \u001b[0mDuck\u001b[0m\u001b[0;34m(\u001b[0m\u001b[0;34m)\u001b[0m\u001b[0;34m\u001b[0m\u001b[0m\n\u001b[0m\u001b[1;32m      3\u001b[0m     \u001b[0mjohn\u001b[0m \u001b[0;34m=\u001b[0m \u001b[0mPerson\u001b[0m\u001b[0;34m(\u001b[0m\u001b[0;34m)\u001b[0m\u001b[0;34m\u001b[0m\u001b[0m\n\u001b[1;32m      4\u001b[0m     \u001b[0mfido\u001b[0m \u001b[0;34m=\u001b[0m \u001b[0mDog\u001b[0m\u001b[0;34m(\u001b[0m\u001b[0;34m)\u001b[0m\u001b[0;34m\u001b[0m\u001b[0m\n\u001b[1;32m      5\u001b[0m \u001b[0;34m\u001b[0m\u001b[0m\n",
      "\u001b[0;31mNameError\u001b[0m: name 'Duck' is not defined"
     ]
    }
   ],
   "source": [
    "if __name__ == \"__main__\": main()"
   ]
  },
  {
   "cell_type": "code",
   "execution_count": null,
   "metadata": {
    "collapsed": true
   },
   "outputs": [],
   "source": []
  }
 ],
 "metadata": {
  "kernelspec": {
   "display_name": "Python 3",
   "language": "python",
   "name": "python3"
  },
  "language_info": {
   "codemirror_mode": {
    "name": "ipython",
    "version": 3
   },
   "file_extension": ".py",
   "mimetype": "text/x-python",
   "name": "python",
   "nbconvert_exporter": "python",
   "pygments_lexer": "ipython3",
   "version": "3.6.1"
  }
 },
 "nbformat": 4,
 "nbformat_minor": 2
}
